{
 "cells": [
  {
   "cell_type": "code",
   "execution_count": 6,
   "metadata": {},
   "outputs": [],
   "source": [
    "import numpy as np\n",
    "import pandas as pd\n",
    "from sklearn.linear_model import LinearRegression\n",
    "from sklearn.ensemble import RandomForestClassifier\n",
    "from sklearn.datasets import load_iris\n",
    "\n",
    "\n",
    "class KFold():\n",
    "    def __init__(self,model,k,X,y,random_state):\n",
    "        self.k=k\n",
    "        self.X=X\n",
    "        self.y=y.reshape(-1,1)\n",
    "        self.random_state=random_state\n",
    "        self.model=model\n",
    "\n",
    "    def fit(self):\n",
    "        if self.k==0:\n",
    "            return '0 is not a valid input for K'\n",
    "        np.random.seed(self.random_state)\n",
    "        score_list=[]\n",
    "\n",
    "        test_size=len(self.X)//self.k\n",
    "        data=np.concatenate([self.X,self.y],axis=1)\n",
    "        np.random.shuffle(data)\n",
    "\n",
    "        for i in range(0,self.k):\n",
    "            test=data[i*test_size:(i+1)*test_size,:]\n",
    "            train=np.concatenate([data[0:i*test_size],data[(i+1)*test_size:]],axis=0)\n",
    "\n",
    "            X_train,y_train=train[:,:-1],train[:,-1]\n",
    "            X_test,y_test=test[:,:-1],test[:,-1]\n",
    "\n",
    "            self.model.fit(X_train,y_train)\n",
    "            score_list.append(self.model.score(X_test,y_test))\n",
    "\n",
    "        return score_list"
   ]
  },
  {
   "cell_type": "code",
   "execution_count": 8,
   "metadata": {},
   "outputs": [
    {
     "data": {
      "text/plain": [
       "[1.0,\n",
       " 0.9666666666666667,\n",
       " 0.9333333333333333,\n",
       " 0.9333333333333333,\n",
       " 0.9666666666666667]"
      ]
     },
     "execution_count": 8,
     "metadata": {},
     "output_type": "execute_result"
    }
   ],
   "source": [
    "data=load_iris()\n",
    "\n",
    "X=data['data']\n",
    "y=data['target']\n",
    "\n",
    "rf=RandomForestClassifier()\n",
    "\n",
    "\n",
    "kf=KFold(rf,5,X,y,42)\n",
    "\n",
    "kf.fit()\n"
   ]
  },
  {
   "cell_type": "code",
   "execution_count": null,
   "metadata": {},
   "outputs": [],
   "source": []
  }
 ],
 "metadata": {
  "kernelspec": {
   "display_name": "Python 3.9.6 64-bit",
   "language": "python",
   "name": "python3"
  },
  "language_info": {
   "codemirror_mode": {
    "name": "ipython",
    "version": 3
   },
   "file_extension": ".py",
   "mimetype": "text/x-python",
   "name": "python",
   "nbconvert_exporter": "python",
   "pygments_lexer": "ipython3",
   "version": "3.9.6"
  },
  "orig_nbformat": 4,
  "vscode": {
   "interpreter": {
    "hash": "31f2aee4e71d21fbe5cf8b01ff0e069b9275f58929596ceb00d14d90e3e16cd6"
   }
  }
 },
 "nbformat": 4,
 "nbformat_minor": 2
}
